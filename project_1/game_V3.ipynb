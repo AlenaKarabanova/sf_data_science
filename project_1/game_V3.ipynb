{
 "cells": [
  {
   "cell_type": "markdown",
   "metadata": {},
   "source": [
    "# Игра \"Угадай число\"\n",
    "## Угадываем по алгоритму"
   ]
  },
  {
   "cell_type": "code",
   "execution_count": null,
   "metadata": {},
   "outputs": [],
   "source": [
    "from game_V3 import score_game\n",
    "from game_V3 import random_predict\n",
    "score_game(random_predict) #вызов функции"
   ]
  }
 ],
 "metadata": {
  "kernelspec": {
   "display_name": "Python 3.8.10 64-bit",
   "language": "python",
   "name": "python3"
  },
  "language_info": {
   "name": "python",
   "version": "3.8.10"
  },
  "orig_nbformat": 4,
  "vscode": {
   "interpreter": {
    "hash": "2cd08aec94228fa52cc4e95bb31328a97c53b64f0371d0d7a46f516df1e91b2b"
   }
  }
 },
 "nbformat": 4,
 "nbformat_minor": 2
}
